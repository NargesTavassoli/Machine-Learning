{
 "cells": [
  {
   "cell_type": "markdown",
   "metadata": {},
   "source": [
    "### The `known()` function receives a name and returns the gender and country in which that name is common"
   ]
  },
  {
   "cell_type": "code",
   "execution_count": 1,
   "metadata": {},
   "outputs": [
    {
     "name": "stdout",
     "output_type": "stream",
     "text": [
      "Requirement already satisfied: names-dataset in /home/narges/anaconda3/lib/python3.7/site-packages (3.1.0)\n",
      "Requirement already satisfied: pycountry in /home/narges/anaconda3/lib/python3.7/site-packages (from names-dataset) (22.3.5)\n",
      "Requirement already satisfied: setuptools in /home/narges/anaconda3/lib/python3.7/site-packages (from pycountry->names-dataset) (45.2.0.post20200210)\n"
     ]
    }
   ],
   "source": [
    "!pip install names-dataset"
   ]
  },
  {
   "cell_type": "code",
   "execution_count": 3,
   "metadata": {},
   "outputs": [],
   "source": [
    "from names_dataset import NameDataset\n",
    "nd = NameDataset()"
   ]
  },
  {
   "cell_type": "code",
   "execution_count": 4,
   "metadata": {},
   "outputs": [],
   "source": [
    "def knows(name):\n",
    "    \"\"\"    \n",
    "        Args:\n",
    "            name (string): first name\n",
    "\n",
    "        Returns\n",
    "            gender (string): The most common gender for the name\n",
    "            country_name (string): The most common country for the name\n",
    "    \"\"\"\n",
    "    country_dic = nd.search(name)['first_name'].get('country')\n",
    "    country_name = max(country_dic, key=country_dic.get)\n",
    "    gender_dic = nd.search(name)['first_name'].get('gender')\n",
    "    gender = max(gender_dic, key=gender_dic.get)\n",
    "    return gender, country_name"
   ]
  },
  {
   "cell_type": "code",
   "execution_count": 5,
   "metadata": {},
   "outputs": [
    {
     "data": {
      "text/plain": [
       "('Male', 'France')"
      ]
     },
     "execution_count": 5,
     "metadata": {},
     "output_type": "execute_result"
    }
   ],
   "source": [
    "knows('Philippe')"
   ]
  },
  {
   "cell_type": "code",
   "execution_count": 6,
   "metadata": {},
   "outputs": [
    {
     "data": {
      "text/plain": [
       "('Female', 'Iran, Islamic Republic of')"
      ]
     },
     "execution_count": 6,
     "metadata": {},
     "output_type": "execute_result"
    }
   ],
   "source": [
    "knows('Narges')"
   ]
  },
  {
   "cell_type": "code",
   "execution_count": null,
   "metadata": {},
   "outputs": [],
   "source": []
  }
 ],
 "metadata": {
  "kernelspec": {
   "display_name": "Python 3",
   "language": "python",
   "name": "python3"
  },
  "language_info": {
   "codemirror_mode": {
    "name": "ipython",
    "version": 3
   },
   "file_extension": ".py",
   "mimetype": "text/x-python",
   "name": "python",
   "nbconvert_exporter": "python",
   "pygments_lexer": "ipython3",
   "version": "3.7.6"
  }
 },
 "nbformat": 4,
 "nbformat_minor": 4
}
