{
 "cells": [
  {
   "cell_type": "markdown",
   "metadata": {},
   "source": [
    "### The `known()` function receives a name and returns the gender and country in which that name is common"
   ]
  },
  {
   "cell_type": "markdown",
   "metadata": {},
   "source": [
    "# Install Laiberry"
   ]
  },
  {
   "cell_type": "code",
   "execution_count": 1,
   "metadata": {},
   "outputs": [
    {
     "name": "stdout",
     "output_type": "stream",
     "text": [
      "Requirement already satisfied: Faker in /home/narges/anaconda3/lib/python3.7/site-packages (14.2.0)\n",
      "Requirement already satisfied: typing-extensions>=3.7.4.3; python_version < \"3.8\" in /home/narges/anaconda3/lib/python3.7/site-packages (from Faker) (4.3.0)\n",
      "Requirement already satisfied: python-dateutil>=2.4 in /home/narges/anaconda3/lib/python3.7/site-packages (from Faker) (2.8.1)\n",
      "Requirement already satisfied: six>=1.5 in /home/narges/anaconda3/lib/python3.7/site-packages (from python-dateutil>=2.4->Faker) (1.14.0)\n",
      "Requirement already satisfied: names-dataset in /home/narges/anaconda3/lib/python3.7/site-packages (3.1.0)\n",
      "Requirement already satisfied: pycountry in /home/narges/anaconda3/lib/python3.7/site-packages (from names-dataset) (22.3.5)\n",
      "Requirement already satisfied: setuptools in /home/narges/anaconda3/lib/python3.7/site-packages (from pycountry->names-dataset) (45.2.0.post20200210)\n"
     ]
    }
   ],
   "source": [
    "!pip install Faker\n",
    "!pip install names-dataset"
   ]
  },
  {
   "cell_type": "code",
   "execution_count": 2,
   "metadata": {},
   "outputs": [],
   "source": [
    "from faker import Faker\n",
    "from names_dataset import NameDataset\n",
    "import numpy as np\n",
    "import pandas as pd"
   ]
  },
  {
   "cell_type": "markdown",
   "metadata": {},
   "source": [
    "# Load Data"
   ]
  },
  {
   "cell_type": "code",
   "execution_count": 3,
   "metadata": {},
   "outputs": [],
   "source": [
    "en_fake = Faker()\n",
    "fa_fake = Faker('fa')"
   ]
  },
  {
   "cell_type": "code",
   "execution_count": 4,
   "metadata": {},
   "outputs": [],
   "source": [
    "nd = NameDataset()"
   ]
  },
  {
   "cell_type": "code",
   "execution_count": 5,
   "metadata": {},
   "outputs": [],
   "source": [
    "def make_name():\n",
    "    return np.random.choice(\n",
    "        [en_fake.name(), fa_fake.name()],\n",
    "         p=[0.9, 0.1]\n",
    "    )"
   ]
  },
  {
   "cell_type": "code",
   "execution_count": 6,
   "metadata": {},
   "outputs": [],
   "source": [
    "df = pd.DataFrame({\n",
    "    'fullName' : [make_name() for _ in range(10)]\n",
    "})"
   ]
  },
  {
   "cell_type": "code",
   "execution_count": 7,
   "metadata": {},
   "outputs": [
    {
     "data": {
      "text/html": [
       "<div>\n",
       "<style scoped>\n",
       "    .dataframe tbody tr th:only-of-type {\n",
       "        vertical-align: middle;\n",
       "    }\n",
       "\n",
       "    .dataframe tbody tr th {\n",
       "        vertical-align: top;\n",
       "    }\n",
       "\n",
       "    .dataframe thead th {\n",
       "        text-align: right;\n",
       "    }\n",
       "</style>\n",
       "<table border=\"1\" class=\"dataframe\">\n",
       "  <thead>\n",
       "    <tr style=\"text-align: right;\">\n",
       "      <th></th>\n",
       "      <th>fullName</th>\n",
       "    </tr>\n",
       "  </thead>\n",
       "  <tbody>\n",
       "    <tr>\n",
       "      <th>0</th>\n",
       "      <td>Natasha Montgomery</td>\n",
       "    </tr>\n",
       "    <tr>\n",
       "      <th>1</th>\n",
       "      <td>Larry Taylor MD</td>\n",
       "    </tr>\n",
       "    <tr>\n",
       "      <th>2</th>\n",
       "      <td>Dustin Keith</td>\n",
       "    </tr>\n",
       "  </tbody>\n",
       "</table>\n",
       "</div>"
      ],
      "text/plain": [
       "             fullName\n",
       "0  Natasha Montgomery\n",
       "1     Larry Taylor MD\n",
       "2        Dustin Keith"
      ]
     },
     "execution_count": 7,
     "metadata": {},
     "output_type": "execute_result"
    }
   ],
   "source": [
    "df.head(3)"
   ]
  },
  {
   "cell_type": "markdown",
   "metadata": {},
   "source": [
    "# Extract First name and Last name"
   ]
  },
  {
   "cell_type": "code",
   "execution_count": 8,
   "metadata": {},
   "outputs": [],
   "source": [
    "df['firstName'] = df['fullName'].apply(\n",
    "    lambda full_name: full_name.split()[0]\n",
    ")"
   ]
  },
  {
   "cell_type": "code",
   "execution_count": 9,
   "metadata": {},
   "outputs": [],
   "source": [
    "df['lastName'] = df['fullName'].apply(\n",
    "    lambda full_name: full_name.split()[-1]\n",
    ")"
   ]
  },
  {
   "cell_type": "code",
   "execution_count": 10,
   "metadata": {},
   "outputs": [
    {
     "data": {
      "text/html": [
       "<div>\n",
       "<style scoped>\n",
       "    .dataframe tbody tr th:only-of-type {\n",
       "        vertical-align: middle;\n",
       "    }\n",
       "\n",
       "    .dataframe tbody tr th {\n",
       "        vertical-align: top;\n",
       "    }\n",
       "\n",
       "    .dataframe thead th {\n",
       "        text-align: right;\n",
       "    }\n",
       "</style>\n",
       "<table border=\"1\" class=\"dataframe\">\n",
       "  <thead>\n",
       "    <tr style=\"text-align: right;\">\n",
       "      <th></th>\n",
       "      <th>fullName</th>\n",
       "      <th>firstName</th>\n",
       "      <th>lastName</th>\n",
       "    </tr>\n",
       "  </thead>\n",
       "  <tbody>\n",
       "    <tr>\n",
       "      <th>0</th>\n",
       "      <td>Natasha Montgomery</td>\n",
       "      <td>Natasha</td>\n",
       "      <td>Montgomery</td>\n",
       "    </tr>\n",
       "    <tr>\n",
       "      <th>1</th>\n",
       "      <td>Larry Taylor MD</td>\n",
       "      <td>Larry</td>\n",
       "      <td>MD</td>\n",
       "    </tr>\n",
       "    <tr>\n",
       "      <th>2</th>\n",
       "      <td>Dustin Keith</td>\n",
       "      <td>Dustin</td>\n",
       "      <td>Keith</td>\n",
       "    </tr>\n",
       "  </tbody>\n",
       "</table>\n",
       "</div>"
      ],
      "text/plain": [
       "             fullName firstName    lastName\n",
       "0  Natasha Montgomery   Natasha  Montgomery\n",
       "1     Larry Taylor MD     Larry          MD\n",
       "2        Dustin Keith    Dustin       Keith"
      ]
     },
     "execution_count": 10,
     "metadata": {},
     "output_type": "execute_result"
    }
   ],
   "source": [
    "df.head(3)"
   ]
  },
  {
   "cell_type": "markdown",
   "metadata": {},
   "source": [
    "# Predict Gender"
   ]
  },
  {
   "cell_type": "code",
   "execution_count": 11,
   "metadata": {},
   "outputs": [],
   "source": [
    "def get_gender(name):\n",
    "    info = nd.search(name)['first_name']\n",
    "    if info is None:\n",
    "        return None\n",
    "    info = info.get('gender')\n",
    "    return max(info, key=info.get)"
   ]
  },
  {
   "cell_type": "code",
   "execution_count": 12,
   "metadata": {},
   "outputs": [],
   "source": [
    "df['gender'] = df['firstName'].apply(get_gender)"
   ]
  },
  {
   "cell_type": "code",
   "execution_count": 13,
   "metadata": {},
   "outputs": [],
   "source": [
    "def get_gender_probability(name):\n",
    "    info = nd.search(name)['first_name']\n",
    "    if info is None:\n",
    "        return None\n",
    "    info = info['gender'].values()\n",
    "    return max(info)"
   ]
  },
  {
   "cell_type": "code",
   "execution_count": 14,
   "metadata": {},
   "outputs": [],
   "source": [
    "df['gender_probability'] = df['firstName'].apply(get_gender_probability)"
   ]
  },
  {
   "cell_type": "code",
   "execution_count": 15,
   "metadata": {},
   "outputs": [
    {
     "data": {
      "text/html": [
       "<div>\n",
       "<style scoped>\n",
       "    .dataframe tbody tr th:only-of-type {\n",
       "        vertical-align: middle;\n",
       "    }\n",
       "\n",
       "    .dataframe tbody tr th {\n",
       "        vertical-align: top;\n",
       "    }\n",
       "\n",
       "    .dataframe thead th {\n",
       "        text-align: right;\n",
       "    }\n",
       "</style>\n",
       "<table border=\"1\" class=\"dataframe\">\n",
       "  <thead>\n",
       "    <tr style=\"text-align: right;\">\n",
       "      <th></th>\n",
       "      <th>fullName</th>\n",
       "      <th>firstName</th>\n",
       "      <th>lastName</th>\n",
       "      <th>gender</th>\n",
       "      <th>gender_probability</th>\n",
       "    </tr>\n",
       "  </thead>\n",
       "  <tbody>\n",
       "    <tr>\n",
       "      <th>0</th>\n",
       "      <td>Natasha Montgomery</td>\n",
       "      <td>Natasha</td>\n",
       "      <td>Montgomery</td>\n",
       "      <td>Female</td>\n",
       "      <td>0.989</td>\n",
       "    </tr>\n",
       "    <tr>\n",
       "      <th>1</th>\n",
       "      <td>Larry Taylor MD</td>\n",
       "      <td>Larry</td>\n",
       "      <td>MD</td>\n",
       "      <td>Male</td>\n",
       "      <td>0.977</td>\n",
       "    </tr>\n",
       "    <tr>\n",
       "      <th>2</th>\n",
       "      <td>Dustin Keith</td>\n",
       "      <td>Dustin</td>\n",
       "      <td>Keith</td>\n",
       "      <td>Male</td>\n",
       "      <td>0.994</td>\n",
       "    </tr>\n",
       "    <tr>\n",
       "      <th>3</th>\n",
       "      <td>Rebecca Turner</td>\n",
       "      <td>Rebecca</td>\n",
       "      <td>Turner</td>\n",
       "      <td>Female</td>\n",
       "      <td>0.993</td>\n",
       "    </tr>\n",
       "    <tr>\n",
       "      <th>4</th>\n",
       "      <td>Mrs. Ann Roy MD</td>\n",
       "      <td>Mrs.</td>\n",
       "      <td>MD</td>\n",
       "      <td>None</td>\n",
       "      <td>NaN</td>\n",
       "    </tr>\n",
       "  </tbody>\n",
       "</table>\n",
       "</div>"
      ],
      "text/plain": [
       "             fullName firstName    lastName  gender  gender_probability\n",
       "0  Natasha Montgomery   Natasha  Montgomery  Female               0.989\n",
       "1     Larry Taylor MD     Larry          MD    Male               0.977\n",
       "2        Dustin Keith    Dustin       Keith    Male               0.994\n",
       "3      Rebecca Turner   Rebecca      Turner  Female               0.993\n",
       "4     Mrs. Ann Roy MD      Mrs.          MD    None                 NaN"
      ]
     },
     "execution_count": 15,
     "metadata": {},
     "output_type": "execute_result"
    }
   ],
   "source": [
    "df.head()"
   ]
  },
  {
   "cell_type": "markdown",
   "metadata": {},
   "source": [
    "# Predict Country"
   ]
  },
  {
   "cell_type": "code",
   "execution_count": 16,
   "metadata": {},
   "outputs": [],
   "source": [
    "def get_country(name):\n",
    "    if not isinstance(name, str):\n",
    "        return None\n",
    "    info = nd.search(name)['first_name']\n",
    "    if info is None:\n",
    "        return None\n",
    "    return max(info['country'], key=info['country'].get)"
   ]
  },
  {
   "cell_type": "code",
   "execution_count": 17,
   "metadata": {},
   "outputs": [],
   "source": [
    "df['country'] = df['firstName'].apply(get_country)"
   ]
  },
  {
   "cell_type": "code",
   "execution_count": 18,
   "metadata": {},
   "outputs": [],
   "source": [
    "def get_country_probability(name):\n",
    "    info = nd.search(name)['first_name']\n",
    "    if info is None:\n",
    "        return None\n",
    "    info = info['country'].values()\n",
    "    return max(info)"
   ]
  },
  {
   "cell_type": "code",
   "execution_count": 19,
   "metadata": {},
   "outputs": [],
   "source": [
    "df['country_probability'] = df['firstName'].apply(get_country_probability)"
   ]
  },
  {
   "cell_type": "code",
   "execution_count": 20,
   "metadata": {},
   "outputs": [
    {
     "data": {
      "text/html": [
       "<div>\n",
       "<style scoped>\n",
       "    .dataframe tbody tr th:only-of-type {\n",
       "        vertical-align: middle;\n",
       "    }\n",
       "\n",
       "    .dataframe tbody tr th {\n",
       "        vertical-align: top;\n",
       "    }\n",
       "\n",
       "    .dataframe thead th {\n",
       "        text-align: right;\n",
       "    }\n",
       "</style>\n",
       "<table border=\"1\" class=\"dataframe\">\n",
       "  <thead>\n",
       "    <tr style=\"text-align: right;\">\n",
       "      <th></th>\n",
       "      <th>fullName</th>\n",
       "      <th>firstName</th>\n",
       "      <th>lastName</th>\n",
       "      <th>gender</th>\n",
       "      <th>gender_probability</th>\n",
       "      <th>country</th>\n",
       "      <th>country_probability</th>\n",
       "    </tr>\n",
       "  </thead>\n",
       "  <tbody>\n",
       "    <tr>\n",
       "      <th>0</th>\n",
       "      <td>Natasha Montgomery</td>\n",
       "      <td>Natasha</td>\n",
       "      <td>Montgomery</td>\n",
       "      <td>Female</td>\n",
       "      <td>0.989</td>\n",
       "      <td>United States</td>\n",
       "      <td>0.231</td>\n",
       "    </tr>\n",
       "    <tr>\n",
       "      <th>1</th>\n",
       "      <td>Larry Taylor MD</td>\n",
       "      <td>Larry</td>\n",
       "      <td>MD</td>\n",
       "      <td>Male</td>\n",
       "      <td>0.977</td>\n",
       "      <td>United States</td>\n",
       "      <td>0.756</td>\n",
       "    </tr>\n",
       "    <tr>\n",
       "      <th>2</th>\n",
       "      <td>Dustin Keith</td>\n",
       "      <td>Dustin</td>\n",
       "      <td>Keith</td>\n",
       "      <td>Male</td>\n",
       "      <td>0.994</td>\n",
       "      <td>United States</td>\n",
       "      <td>0.750</td>\n",
       "    </tr>\n",
       "    <tr>\n",
       "      <th>3</th>\n",
       "      <td>Rebecca Turner</td>\n",
       "      <td>Rebecca</td>\n",
       "      <td>Turner</td>\n",
       "      <td>Female</td>\n",
       "      <td>0.993</td>\n",
       "      <td>United States</td>\n",
       "      <td>0.327</td>\n",
       "    </tr>\n",
       "    <tr>\n",
       "      <th>4</th>\n",
       "      <td>Mrs. Ann Roy MD</td>\n",
       "      <td>Mrs.</td>\n",
       "      <td>MD</td>\n",
       "      <td>None</td>\n",
       "      <td>NaN</td>\n",
       "      <td>None</td>\n",
       "      <td>NaN</td>\n",
       "    </tr>\n",
       "  </tbody>\n",
       "</table>\n",
       "</div>"
      ],
      "text/plain": [
       "             fullName firstName    lastName  gender  gender_probability  \\\n",
       "0  Natasha Montgomery   Natasha  Montgomery  Female               0.989   \n",
       "1     Larry Taylor MD     Larry          MD    Male               0.977   \n",
       "2        Dustin Keith    Dustin       Keith    Male               0.994   \n",
       "3      Rebecca Turner   Rebecca      Turner  Female               0.993   \n",
       "4     Mrs. Ann Roy MD      Mrs.          MD    None                 NaN   \n",
       "\n",
       "         country  country_probability  \n",
       "0  United States                0.231  \n",
       "1  United States                0.756  \n",
       "2  United States                0.750  \n",
       "3  United States                0.327  \n",
       "4           None                  NaN  "
      ]
     },
     "execution_count": 20,
     "metadata": {},
     "output_type": "execute_result"
    }
   ],
   "source": [
    "df.head()"
   ]
  }
 ],
 "metadata": {
  "kernelspec": {
   "display_name": "Python 3",
   "language": "python",
   "name": "python3"
  },
  "language_info": {
   "codemirror_mode": {
    "name": "ipython",
    "version": 3
   },
   "file_extension": ".py",
   "mimetype": "text/x-python",
   "name": "python",
   "nbconvert_exporter": "python",
   "pygments_lexer": "ipython3",
   "version": "3.7.6"
  }
 },
 "nbformat": 4,
 "nbformat_minor": 4
}
